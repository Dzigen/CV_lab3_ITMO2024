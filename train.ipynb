{
 "cells": [
  {
   "cell_type": "code",
   "execution_count": 1,
   "metadata": {},
   "outputs": [],
   "source": [
    "from ultralytics import YOLO\n",
    "import torch\n",
    "import torchvision"
   ]
  },
  {
   "cell_type": "code",
   "execution_count": 3,
   "metadata": {},
   "outputs": [
    {
     "name": "stdout",
     "output_type": "stream",
     "text": [
      "Number of parameters:  3409968\n"
     ]
    }
   ],
   "source": [
    "model = YOLO('./yolov8n-seg.pt')\n",
    "print(\"Number of parameters: \", sum([p.numel() for p in model.parameters()]))"
   ]
  },
  {
   "cell_type": "code",
   "execution_count": null,
   "metadata": {},
   "outputs": [],
   "source": [
    "results = model.train(data='./data/config.yaml', epochs=10)"
   ]
  },
  {
   "cell_type": "code",
   "execution_count": 2,
   "metadata": {},
   "outputs": [
    {
     "name": "stdout",
     "output_type": "stream",
     "text": [
      "Number of parameters:  3263811\n"
     ]
    }
   ],
   "source": [
    "model = YOLO('/home/dzigen/Desktop/ITMO/sem1/ImgGen/Лабы/lab3/runs/segment/train/weights/best.pt')\n",
    "print(\"Number of parameters: \", sum([p.numel() for p in model.parameters()]))"
   ]
  },
  {
   "cell_type": "code",
   "execution_count": 6,
   "metadata": {},
   "outputs": [
    {
     "name": "stdout",
     "output_type": "stream",
     "text": [
      "Ultralytics YOLOv8.1.31 🚀 Python-3.11.4 torch-2.1.0+cu121 CUDA:0 (NVIDIA GeForce GTX 1050 Ti, 4036MiB)\n"
     ]
    },
    {
     "name": "stderr",
     "output_type": "stream",
     "text": [
      "\u001b[34m\u001b[1mval: \u001b[0mScanning /home/dzigen/Desktop/ITMO/sem1/ImgGen/Лабы/lab3/data/yolov8_f/val/labels.cache... 127 images, 0 backgrounds, 0 corrupt: 100%|██████████| 127/127 [00:00<?, ?it/s]"
     ]
    },
    {
     "name": "stdout",
     "output_type": "stream",
     "text": [
      "\u001b[34m\u001b[1mval: \u001b[0mWARNING ⚠️ /home/dzigen/Desktop/ITMO/sem1/ImgGen/Лабы/lab3/data/yolov8_f/val/images/207.jpg: corrupt JPEG restored and saved\n",
      "\u001b[34m\u001b[1mval: \u001b[0mWARNING ⚠️ /home/dzigen/Desktop/ITMO/sem1/ImgGen/Лабы/lab3/data/yolov8_f/val/images/211.jpg: corrupt JPEG restored and saved\n",
      "\u001b[34m\u001b[1mval: \u001b[0mWARNING ⚠️ /home/dzigen/Desktop/ITMO/sem1/ImgGen/Лабы/lab3/data/yolov8_f/val/images/213.jpg: corrupt JPEG restored and saved\n",
      "\u001b[34m\u001b[1mval: \u001b[0mWARNING ⚠️ /home/dzigen/Desktop/ITMO/sem1/ImgGen/Лабы/lab3/data/yolov8_f/val/images/214.jpg: corrupt JPEG restored and saved\n",
      "\u001b[34m\u001b[1mval: \u001b[0mWARNING ⚠️ /home/dzigen/Desktop/ITMO/sem1/ImgGen/Лабы/lab3/data/yolov8_f/val/images/216.jpg: corrupt JPEG restored and saved\n",
      "\u001b[34m\u001b[1mval: \u001b[0mWARNING ⚠️ /home/dzigen/Desktop/ITMO/sem1/ImgGen/Лабы/lab3/data/yolov8_f/val/images/223.jpg: corrupt JPEG restored and saved\n",
      "\u001b[34m\u001b[1mval: \u001b[0mWARNING ⚠️ /home/dzigen/Desktop/ITMO/sem1/ImgGen/Лабы/lab3/data/yolov8_f/val/images/225.jpg: corrupt JPEG restored and saved\n",
      "\u001b[34m\u001b[1mval: \u001b[0mWARNING ⚠️ /home/dzigen/Desktop/ITMO/sem1/ImgGen/Лабы/lab3/data/yolov8_f/val/images/231.jpg: corrupt JPEG restored and saved\n"
     ]
    },
    {
     "name": "stderr",
     "output_type": "stream",
     "text": [
      "\n",
      "                 Class     Images  Instances      Box(P          R      mAP50  mAP50-95)     Mask(P          R      mAP50  mAP50-95): 100%|██████████| 8/8 [00:03<00:00,  2.00it/s]\n"
     ]
    },
    {
     "name": "stdout",
     "output_type": "stream",
     "text": [
      "                   all        127        400      0.827      0.739      0.817      0.546      0.832      0.679      0.764      0.371\n",
      "Speed: 1.6ms preprocess, 7.5ms inference, 0.0ms loss, 1.6ms postprocess per image\n",
      "Results saved to \u001b[1mruns/segment/val2\u001b[0m\n"
     ]
    }
   ],
   "source": [
    "metrics = model.val(data='./data/config.yaml')"
   ]
  },
  {
   "cell_type": "code",
   "execution_count": 10,
   "metadata": {},
   "outputs": [
    {
     "name": "stdout",
     "output_type": "stream",
     "text": [
      "\n",
      "image 1/1 /home/dzigen/Desktop/ITMO/sem1/ImgGen/Лабы/lab3/data/myimages/photo_4_2024-03-25_17-37-06.jpg: 480x640 4 road signs, 12.2ms\n",
      "Speed: 2.0ms preprocess, 12.2ms inference, 1.5ms postprocess per image at shape (1, 3, 480, 640)\n"
     ]
    }
   ],
   "source": [
    "results = model.predict(\"/home/dzigen/Desktop/ITMO/sem1/ImgGen/Лабы/lab3/data/myimages/photo_4_2024-03-25_17-37-06.jpg\")"
   ]
  },
  {
   "cell_type": "code",
   "execution_count": 11,
   "metadata": {},
   "outputs": [],
   "source": [
    "results[0].show()"
   ]
  },
  {
   "cell_type": "code",
   "execution_count": null,
   "metadata": {},
   "outputs": [],
   "source": []
  }
 ],
 "metadata": {
  "kernelspec": {
   "display_name": "base",
   "language": "python",
   "name": "python3"
  },
  "language_info": {
   "codemirror_mode": {
    "name": "ipython",
    "version": 3
   },
   "file_extension": ".py",
   "mimetype": "text/x-python",
   "name": "python",
   "nbconvert_exporter": "python",
   "pygments_lexer": "ipython3",
   "version": "3.11.4"
  }
 },
 "nbformat": 4,
 "nbformat_minor": 2
}
